﻿{
  "metadata": {
    "name": "Task 1 e 2",
    "kernelspec": {
      "language": "scala",
      "name": "spark2-scala"
    },
    "language_info": {
      "codemirror_mode": "text/x-scala",
      "file_extension": ".scala",
      "mimetype": "text/x-scala",
      "name": "scala",
      "pygments_lexer": "scala"
    }
  },
  "nbformat": 4,
  "nbformat_minor": 2,
  "cells": [
    {
      "cell_type": "markdown",
      "metadata": {},
      "source": "# Projeto Spark\n\n### Integrantes: Eikie Yamashiro, João Guilherme Almeida e William Augusto Reis"
    },
    {
      "cell_type": "code",
      "execution_count": 1,
      "metadata": {
        "autoscroll": "auto"
      },
      "outputs": [],
      "source": "%pyspark\nrdd \u003d sc.textFile(\u0027s3://megadados-alunos/dados/all_reviews_clean_tsv/\u0027).cache()\n"
    },
    {
      "cell_type": "code",
      "execution_count": 2,
      "metadata": {
        "autoscroll": "auto"
      },
      "outputs": [],
      "source": "%pyspark\nrdd.count()"
    },
    {
      "cell_type": "markdown",
      "metadata": {},
      "source": "####Transformando para DataFrame"
    },
    {
      "cell_type": "code",
      "execution_count": 4,
      "metadata": {
        "autoscroll": "auto"
      },
      "outputs": [],
      "source": "%pyspark\ndf \u003d spark.read.option(\"header\", \"false\").option(\"delimiter\", \"\\t\").csv(\"s3://megadados-alunos/dados/all_reviews_clean_tsv/\")\ndf.columns"
    },
    {
      "cell_type": "code",
      "execution_count": 5,
      "metadata": {
        "autoscroll": "auto"
      },
      "outputs": [],
      "source": "%pyspark\ndf_renamed \u003d df \\\n    .withColumnRenamed(\"_c0\", \"marketplace\") \\\n    .withColumnRenamed(\"_c1\", \"customer_id\") \\\n    .withColumnRenamed(\"_c2\", \"review_id\") \\\n    .withColumnRenamed(\"_c3\", \"product_id\") \\\n    .withColumnRenamed(\"_c4\", \"product_parent\") \\\n    .withColumnRenamed(\"_c5\", \"product_title\") \\\n    .withColumnRenamed(\"_c6\", \"product_category\") \\\n    .withColumnRenamed(\"_c7\", \"star_rating\") \\\n    .withColumnRenamed(\"_c8\", \"helpful_votes\") \\\n    .withColumnRenamed(\"_c9\", \"total_votes\") \\\n    .withColumnRenamed(\"_c10\", \"vine\") \\\n    .withColumnRenamed(\"_c11\", \"verified_purchase\") \\\n    .withColumnRenamed(\"_c12\", \"review_headline\") \\\n    .withColumnRenamed(\"_c13\", \"review_body\") \\\n    .withColumnRenamed(\"_c14\", \"review_date\")"
    },
    {
      "cell_type": "code",
      "execution_count": 6,
      "metadata": {
        "autoscroll": "auto"
      },
      "outputs": [],
      "source": "%pyspark\ndf_renamed.columns"
    },
    {
      "cell_type": "markdown",
      "metadata": {},
      "source": "# Task 1\n"
    },
    {
      "cell_type": "markdown",
      "metadata": {},
      "source": "a) Quantos reviews existem?"
    },
    {
      "cell_type": "code",
      "execution_count": 9,
      "metadata": {
        "autoscroll": "auto"
      },
      "outputs": [],
      "source": "%pyspark\ndf_renamed.count()"
    },
    {
      "cell_type": "markdown",
      "metadata": {},
      "source": "b) Quantos clientes existem?\n"
    },
    {
      "cell_type": "code",
      "execution_count": 11,
      "metadata": {
        "autoscroll": "auto"
      },
      "outputs": [],
      "source": "%pyspark\ndf_renamed.select(\"customer_id\").distinct().count()"
    },
    {
      "cell_type": "markdown",
      "metadata": {},
      "source": "c) Quantos produtos existem?"
    },
    {
      "cell_type": "code",
      "execution_count": 13,
      "metadata": {
        "autoscroll": "auto"
      },
      "outputs": [],
      "source": "%pyspark\ndf_renamed.select(\"product_id\").distinct().count()"
    },
    {
      "cell_type": "markdown",
      "metadata": {},
      "source": "d) Quantos reviews existem para cada “star_rating” (de 1 a 5 estrelas)?\n"
    },
    {
      "cell_type": "code",
      "execution_count": 15,
      "metadata": {
        "autoscroll": "auto"
      },
      "outputs": [],
      "source": "%pyspark\ndf_renamed.filter((df_renamed[\"star_rating\"] \u003d\u003d \u00271\u0027) | (df_renamed[\"star_rating\"] \u003d\u003d \u00272\u0027) | (df_renamed[\"star_rating\"] \u003d\u003d \u00273\u0027) | (df_renamed[\"star_rating\"] \u003d\u003d \u00274\u0027) | (df_renamed[\"star_rating\"] \u003d\u003d \u00275\u0027)).groupBy(\"star_rating\").count().show()"
    },
    {
      "cell_type": "markdown",
      "metadata": {},
      "source": "# Task 2\n"
    },
    {
      "cell_type": "code",
      "execution_count": 17,
      "metadata": {
        "autoscroll": "auto"
      },
      "outputs": [],
      "source": "%pyspark\nuser_product \u003d df_renamed.groupBy(\"customer_id\", \"star_rating\", \"product_category\", \"product_title\").count().orderBy([\"count\"], ascending\u003dFalse).show()"
    },
    {
      "cell_type": "code",
      "execution_count": 18,
      "metadata": {
        "autoscroll": "auto"
      },
      "outputs": [],
      "source": "%pyspark\nbot \u003d user_product\n"
    }
  ]
}