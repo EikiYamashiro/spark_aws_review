﻿{
  "metadata": {
    "name": "Task 1 e 2",
    "kernelspec": {
      "language": "scala",
      "name": "spark2-scala"
    },
    "language_info": {
      "codemirror_mode": "text/x-scala",
      "file_extension": ".scala",
      "mimetype": "text/x-scala",
      "name": "scala",
      "pygments_lexer": "scala"
    }
  },
  "nbformat": 4,
  "nbformat_minor": 2,
  "cells": [
    {
      "cell_type": "markdown",
      "metadata": {},
      "source": "# Projeto Spark\n\n### Integrantes: Eikie Yamashiro, João Guilherme Almeida e William Augusto Reis"
    },
    {
      "cell_type": "code",
      "execution_count": 1,
      "metadata": {
        "autoscroll": "auto"
      },
      "outputs": [],
      "source": "%pyspark\nrdd \u003d sc.textFile(\u0027s3://megadados-alunos/dados/all_reviews_clean_tsv/\u0027).cache()\n"
    },
    {
      "cell_type": "code",
      "execution_count": 2,
      "metadata": {
        "autoscroll": "auto"
      },
      "outputs": [],
      "source": "%pyspark\nrdd.count()"
    },
    {
      "cell_type": "markdown",
      "metadata": {},
      "source": "####Transformando para DataFrame"
    },
    {
      "cell_type": "code",
      "execution_count": 4,
      "metadata": {
        "autoscroll": "auto"
      },
      "outputs": [],
      "source": "%pyspark\ndf \u003d spark.read.option(\"header\", \"false\").option(\"delimiter\", \"\\t\").csv(\"s3://megadados-alunos/dados/all_reviews_clean_tsv/\")\ndf.columns"
    },
    {
      "cell_type": "code",
      "execution_count": 5,
      "metadata": {
        "autoscroll": "auto"
      },
      "outputs": [],
      "source": "%pyspark\ndf_renamed \u003d df \\\n    .withColumnRenamed(\"_c0\", \"marketplace\") \\\n    .withColumnRenamed(\"_c1\", \"customer_id\") \\\n    .withColumnRenamed(\"_c2\", \"review_id\") \\\n    .withColumnRenamed(\"_c3\", \"product_id\") \\\n    .withColumnRenamed(\"_c4\", \"product_parent\") \\\n    .withColumnRenamed(\"_c5\", \"product_title\") \\\n    .withColumnRenamed(\"_c6\", \"product_category\") \\\n    .withColumnRenamed(\"_c7\", \"star_rating\") \\\n    .withColumnRenamed(\"_c8\", \"helpful_votes\") \\\n    .withColumnRenamed(\"_c9\", \"total_votes\") \\\n    .withColumnRenamed(\"_c10\", \"vine\") \\\n    .withColumnRenamed(\"_c11\", \"verified_purchase\") \\\n    .withColumnRenamed(\"_c12\", \"review_headline\") \\\n    .withColumnRenamed(\"_c13\", \"review_body\") \\\n    .withColumnRenamed(\"_c14\", \"review_date\")"
    },
    {
      "cell_type": "code",
      "execution_count": 6,
      "metadata": {
        "autoscroll": "auto"
      },
      "outputs": [],
      "source": "%pyspark\ndf_renamed.columns"
    },
    {
      "cell_type": "markdown",
      "metadata": {},
      "source": "# Task 1\n"
    },
    {
      "cell_type": "markdown",
      "metadata": {},
      "source": "a) Quantos reviews existem?"
    },
    {
      "cell_type": "code",
      "execution_count": 9,
      "metadata": {
        "autoscroll": "auto"
      },
      "outputs": [],
      "source": "%pyspark\ndf_renamed.count()"
    },
    {
      "cell_type": "markdown",
      "metadata": {},
      "source": "b) Quantos clientes existem?\n"
    },
    {
      "cell_type": "code",
      "execution_count": 11,
      "metadata": {
        "autoscroll": "auto"
      },
      "outputs": [],
      "source": "%pyspark\ntotal_clients \u003d df_renamed.select(\"customer_id\").distinct().count()\ntotal_clients"
    },
    {
      "cell_type": "markdown",
      "metadata": {},
      "source": "c) Quantos produtos existem?"
    },
    {
      "cell_type": "code",
      "execution_count": 13,
      "metadata": {
        "autoscroll": "auto"
      },
      "outputs": [],
      "source": "%pyspark\ndf_renamed.select(\"product_id\").distinct().count()"
    },
    {
      "cell_type": "markdown",
      "metadata": {},
      "source": "d) Quantos reviews existem para cada “star_rating” (de 1 a 5 estrelas)?\n"
    },
    {
      "cell_type": "code",
      "execution_count": 15,
      "metadata": {
        "autoscroll": "auto"
      },
      "outputs": [],
      "source": "%pyspark\ndf_renamed.filter((df_renamed[\"star_rating\"] \u003d\u003d \u00271\u0027) | (df_renamed[\"star_rating\"] \u003d\u003d \u00272\u0027) | (df_renamed[\"star_rating\"] \u003d\u003d \u00273\u0027) | (df_renamed[\"star_rating\"] \u003d\u003d \u00274\u0027) | (df_renamed[\"star_rating\"] \u003d\u003d \u00275\u0027)).groupBy(\"star_rating\").count().orderBy([\"star_rating\"], ascending\u003dFalse).show()"
    },
    {
      "cell_type": "markdown",
      "metadata": {},
      "source": "# Task 2\n"
    },
    {
      "cell_type": "markdown",
      "metadata": {},
      "source": "Para considerar um usuário como um bot, será feita uma categorização a qual todo o usuário que avaliar mais de duas vezes um produto será classificado como um bot. Isso pois bots são aqueles que são usados para interferir na avaliação de um produto, dessa forma, se um usuário avalia mais de 2 vezes um produto, o provável motivo disso é que este quer interferir na nota do produto, seja para piorá-lo dando sempre 1 ou melhorá-lo dando notas altas"
    },
    {
      "cell_type": "code",
      "execution_count": 18,
      "metadata": {
        "autoscroll": "auto"
      },
      "outputs": [],
      "source": "%pyspark\nuser_product \u003d df_renamed.groupBy(\"customer_id\", \"star_rating\", \"product_category\", \"product_title\").count().orderBy([\"count\"], ascending\u003dFalse)\nuser_product.show()"
    },
    {
      "cell_type": "code",
      "execution_count": 19,
      "metadata": {
        "autoscroll": "auto"
      },
      "outputs": [],
      "source": "%pyspark\nbot \u003d user_product.filter(((user_product[\"count\"]) \u003e 2) ).orderBy([\"count\"], ascending\u003dFalse)"
    },
    {
      "cell_type": "code",
      "execution_count": 20,
      "metadata": {
        "autoscroll": "auto"
      },
      "outputs": [],
      "source": "%pyspark\nbot.show()"
    },
    {
      "cell_type": "markdown",
      "metadata": {},
      "source": "### Quantos Bots são?"
    },
    {
      "cell_type": "code",
      "execution_count": 22,
      "metadata": {
        "autoscroll": "auto"
      },
      "outputs": [],
      "source": "%pyspark\nbot_amount \u003d bot.select(\"customer_id\").count()\nbot_amount"
    },
    {
      "cell_type": "markdown",
      "metadata": {},
      "source": " \n### E qual é a proporção?"
    },
    {
      "cell_type": "code",
      "execution_count": 24,
      "metadata": {
        "autoscroll": "auto"
      },
      "outputs": [],
      "source": "%pyspark\nbot_proportion \u003d (bot_amount/total_clients)*100\nbot_proportion"
    },
    {
      "cell_type": "code",
      "execution_count": 25,
      "metadata": {
        "autoscroll": "auto"
      },
      "outputs": [],
      "source": "%pyspark\ncategory \u003d bot.groupBy(\"product_category\").count().orderBy([\"count\"], ascending\u003dFalse)"
    },
    {
      "cell_type": "markdown",
      "metadata": {},
      "source": "### Qual categoria de produto que os bots avaliam?"
    },
    {
      "cell_type": "code",
      "execution_count": 27,
      "metadata": {
        "autoscroll": "auto"
      },
      "outputs": [],
      "source": "%pyspark\ncategory.show(5)"
    },
    {
      "cell_type": "markdown",
      "metadata": {},
      "source": "Ou seja, conclui-se que boa parte dos bots fazem reviews para as categorias Books, Music, Home e Video Games. Grocery, ao tentar interpretar o resultado, concluímos que talvez não faz sentido considerar como bot, pois é comum que pessoas comprem em mercados (Grocery) mais de duas vezes e avalie.\n\nOs outros, por exemplo, imaginamos que realmente sejam bots. Ainda mais no ramo dos livros, que inclui e-books, onde há muita competição e diversos artistas independentes que necessitam que os livros possuam uma relevância maior dentro da loja para atrair mais clientes. Tendo mais avaliações, ele acaba sendo visto como mais relevante.\n\n#### Mas, os reviews são positivos ou negativos?"
    },
    {
      "cell_type": "code",
      "execution_count": 29,
      "metadata": {
        "autoscroll": "auto"
      },
      "outputs": [],
      "source": "%pyspark\nstar_ratings \u003d bot.groupBy(\"star_rating\").count().orderBy([\"star_rating\"], ascending\u003dFalse)"
    },
    {
      "cell_type": "code",
      "execution_count": 30,
      "metadata": {
        "autoscroll": "auto"
      },
      "outputs": [],
      "source": "%pyspark\nstar_ratings.show(5)"
    },
    {
      "cell_type": "markdown",
      "metadata": {},
      "source": "Além de tudo isso, também observa-se que a maior parte das notas são positivas, o que demonstra que o principal objetivo é fazer com que o produto cresça de relevância na plataforma para angariar mais vendas com suas avaliações positivas."
    }
  ]
}