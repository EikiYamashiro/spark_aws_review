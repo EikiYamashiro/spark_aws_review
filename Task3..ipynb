﻿{
  "metadata": {
    "name": "Task3",
    "kernelspec": {
      "language": "scala",
      "name": "spark2-scala"
    },
    "language_info": {
      "codemirror_mode": "text/x-scala",
      "file_extension": ".scala",
      "mimetype": "text/x-scala",
      "name": "scala",
      "pygments_lexer": "scala"
    }
  },
  "nbformat": 4,
  "nbformat_minor": 2,
  "cells": [
    {
      "cell_type": "markdown",
      "metadata": {},
      "source": "# Projeto 2 - Megadados\n\n### Eiki Luis Yamashiro | João Guilherme Almeida | William Silva"
    },
    {
      "cell_type": "code",
      "execution_count": 1,
      "metadata": {
        "autoscroll": "auto"
      },
      "outputs": [],
      "source": "%pyspark\nrdd \u003d sc.textFile(\u0027s3://megadados-alunos/dados/all_reviews_clean_tsv/\u0027).cache()"
    },
    {
      "cell_type": "code",
      "execution_count": 2,
      "metadata": {
        "autoscroll": "auto"
      },
      "outputs": [],
      "source": "%pyspark\ndf \u003d spark.read.option(\"header\", \"false\").option(\"delimiter\", \"\\t\").csv(\"s3://megadados-alunos/dados/all_reviews_clean_tsv/\")"
    },
    {
      "cell_type": "code",
      "execution_count": 3,
      "metadata": {
        "autoscroll": "auto"
      },
      "outputs": [],
      "source": "%pyspark\ndf \u003d df \\\n    .withColumnRenamed(\"_c0\", \"marketplace\") \\\n    .withColumnRenamed(\"_c1\", \"customer_id\") \\\n    .withColumnRenamed(\"_c2\", \"review_id\") \\\n    .withColumnRenamed(\"_c3\", \"product_id\") \\\n    .withColumnRenamed(\"_c4\", \"product_parent\") \\\n    .withColumnRenamed(\"_c5\", \"product_title\") \\\n    .withColumnRenamed(\"_c6\", \"product_category\") \\\n    .withColumnRenamed(\"_c7\", \"star_rating\") \\\n    .withColumnRenamed(\"_c8\", \"helpful_votes\") \\\n    .withColumnRenamed(\"_c9\", \"total_votes\") \\\n    .withColumnRenamed(\"_c10\", \"vine\") \\\n    .withColumnRenamed(\"_c11\", \"verified_purchase\") \\\n    .withColumnRenamed(\"_c12\", \"review_headline\") \\\n    .withColumnRenamed(\"_c13\", \"review_body\") \\\n    .withColumnRenamed(\"_c14\", \"review_date\")\n"
    },
    {
      "cell_type": "code",
      "execution_count": 4,
      "metadata": {
        "autoscroll": "auto"
      },
      "outputs": [],
      "source": "%pyspark\ndf.show()"
    },
    {
      "cell_type": "markdown",
      "metadata": {},
      "source": "Métricas do Nayve-Bayes: \n- 5 estrelas são positivas (Positivas \u003d 2)\n- 4 estrelas são neutras (Neutras \u003d 1)\n- 3 ou - são negativas (Negativas \u003d 0)\n\nreview_body | métrica do NB"
    },
    {
      "cell_type": "code",
      "execution_count": 6,
      "metadata": {
        "autoscroll": "auto"
      },
      "outputs": [],
      "source": "%pyspark\nfrom pyspark.sql.functions import when\nnb_df \u003d df.select(\"review_body\", \"star_rating\")\nstars \u003d df_renamed.where((df_renamed[\"star_rating\"] \u003d\u003d \u00271\u0027) | (df_renamed[\"star_rating\"] \u003d\u003d \u00272\u0027) | (df_renamed[\"star_rating\"] \u003d\u003d \u00273\u0027) | (df_renamed[\"star_rating\"] \u003d\u003d \u00274\u0027) | (df_renamed[\"star_rating\"] \u003d\u003d \u00275\u0027))\nnb_df \u003d stars.select(\"review_body\", \"star_rating\")\ndf \u003d nb_df.withColumn(\"metric\", \\\n    when(nb_df.star_rating \u003d\u003d \"5\", 2) \\\n        .when(nb_df.star_rating \u003d\u003d \"4\", 1) \\\n        .otherwise(0) \\\n    )\ndf.show()"
    },
    {
      "cell_type": "raw",
      "metadata": {
        "format": "text/plain"
      },
      "source": "%pyspark\n"
    }
  ]
}